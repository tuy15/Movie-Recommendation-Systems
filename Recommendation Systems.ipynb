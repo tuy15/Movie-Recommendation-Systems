{
    "cells": [
        {
            "cell_type": "code",
            "execution_count": 1,
            "metadata": {},
            "outputs": [
                {
                    "name": "stdout",
                    "output_type": "stream",
                    "text": "--2019-12-29 19:56:47--  https://s3-api.us-geo.objectstorage.softlayer.net/cf-courses-data/CognitiveClass/ML0101ENv3/labs/moviedataset.zip\nResolving s3-api.us-geo.objectstorage.softlayer.net (s3-api.us-geo.objectstorage.softlayer.net)... 67.228.254.196\nConnecting to s3-api.us-geo.objectstorage.softlayer.net (s3-api.us-geo.objectstorage.softlayer.net)|67.228.254.196|:443... connected.\nHTTP request sent, awaiting response... 200 OK\nLength: 160301210 (153M) [application/zip]\nSaving to: \u2018moviedataset.zip\u2019\n\n100%[======================================>] 160,301,210 35.1MB/s   in 4.4s   \n\n2019-12-29 19:56:52 (34.6 MB/s) - \u2018moviedataset.zip\u2019 saved [160301210/160301210]\n\nunziping ...\nArchive:  moviedataset.zip\n  inflating: links.csv               \n  inflating: movies.csv              \n  inflating: ratings.csv             \n  inflating: README.txt              \n  inflating: tags.csv                \n"
                }
            ],
            "source": "!wget -O moviedataset.zip https://s3-api.us-geo.objectstorage.softlayer.net/cf-courses-data/CognitiveClass/ML0101ENv3/labs/moviedataset.zip\nprint('unziping ...')\n!unzip -o -j moviedataset.zip "
        },
        {
            "cell_type": "markdown",
            "metadata": {},
            "source": "# Preprocessing"
        },
        {
            "cell_type": "code",
            "execution_count": 2,
            "metadata": {},
            "outputs": [],
            "source": "import pandas as pd\nfrom math import sqrt\nimport numpy as np\nimport matplotlib.pyplot as plt\n%matplotlib inline"
        },
        {
            "cell_type": "code",
            "execution_count": 84,
            "metadata": {},
            "outputs": [
                {
                    "data": {
                        "text/html": "<div>\n<style scoped>\n    .dataframe tbody tr th:only-of-type {\n        vertical-align: middle;\n    }\n\n    .dataframe tbody tr th {\n        vertical-align: top;\n    }\n\n    .dataframe thead th {\n        text-align: right;\n    }\n</style>\n<table border=\"1\" class=\"dataframe\">\n  <thead>\n    <tr style=\"text-align: right;\">\n      <th></th>\n      <th>movieId</th>\n      <th>title</th>\n      <th>genres</th>\n    </tr>\n  </thead>\n  <tbody>\n    <tr>\n      <th>0</th>\n      <td>1</td>\n      <td>Toy Story (1995)</td>\n      <td>Adventure|Animation|Children|Comedy|Fantasy</td>\n    </tr>\n    <tr>\n      <th>1</th>\n      <td>2</td>\n      <td>Jumanji (1995)</td>\n      <td>Adventure|Children|Fantasy</td>\n    </tr>\n    <tr>\n      <th>2</th>\n      <td>3</td>\n      <td>Grumpier Old Men (1995)</td>\n      <td>Comedy|Romance</td>\n    </tr>\n    <tr>\n      <th>3</th>\n      <td>4</td>\n      <td>Waiting to Exhale (1995)</td>\n      <td>Comedy|Drama|Romance</td>\n    </tr>\n    <tr>\n      <th>4</th>\n      <td>5</td>\n      <td>Father of the Bride Part II (1995)</td>\n      <td>Comedy</td>\n    </tr>\n  </tbody>\n</table>\n</div>",
                        "text/plain": "   movieId                               title  \\\n0        1                    Toy Story (1995)   \n1        2                      Jumanji (1995)   \n2        3             Grumpier Old Men (1995)   \n3        4            Waiting to Exhale (1995)   \n4        5  Father of the Bride Part II (1995)   \n\n                                        genres  \n0  Adventure|Animation|Children|Comedy|Fantasy  \n1                   Adventure|Children|Fantasy  \n2                               Comedy|Romance  \n3                         Comedy|Drama|Romance  \n4                                       Comedy  "
                    },
                    "execution_count": 84,
                    "metadata": {},
                    "output_type": "execute_result"
                }
            ],
            "source": "movies_df = pd.read_csv('movies.csv')\nratings_df = pd.read_csv('ratings.csv')\nmovies_df.head()"
        },
        {
            "cell_type": "code",
            "execution_count": 85,
            "metadata": {
                "scrolled": true
            },
            "outputs": [
                {
                    "data": {
                        "text/html": "<div>\n<style scoped>\n    .dataframe tbody tr th:only-of-type {\n        vertical-align: middle;\n    }\n\n    .dataframe tbody tr th {\n        vertical-align: top;\n    }\n\n    .dataframe thead th {\n        text-align: right;\n    }\n</style>\n<table border=\"1\" class=\"dataframe\">\n  <thead>\n    <tr style=\"text-align: right;\">\n      <th></th>\n      <th>userId</th>\n      <th>movieId</th>\n      <th>rating</th>\n      <th>timestamp</th>\n    </tr>\n  </thead>\n  <tbody>\n    <tr>\n      <th>0</th>\n      <td>1</td>\n      <td>169</td>\n      <td>2.5</td>\n      <td>1204927694</td>\n    </tr>\n    <tr>\n      <th>1</th>\n      <td>1</td>\n      <td>2471</td>\n      <td>3.0</td>\n      <td>1204927438</td>\n    </tr>\n    <tr>\n      <th>2</th>\n      <td>1</td>\n      <td>48516</td>\n      <td>5.0</td>\n      <td>1204927435</td>\n    </tr>\n    <tr>\n      <th>3</th>\n      <td>2</td>\n      <td>2571</td>\n      <td>3.5</td>\n      <td>1436165433</td>\n    </tr>\n    <tr>\n      <th>4</th>\n      <td>2</td>\n      <td>109487</td>\n      <td>4.0</td>\n      <td>1436165496</td>\n    </tr>\n  </tbody>\n</table>\n</div>",
                        "text/plain": "   userId  movieId  rating   timestamp\n0       1      169     2.5  1204927694\n1       1     2471     3.0  1204927438\n2       1    48516     5.0  1204927435\n3       2     2571     3.5  1436165433\n4       2   109487     4.0  1436165496"
                    },
                    "execution_count": 85,
                    "metadata": {},
                    "output_type": "execute_result"
                }
            ],
            "source": "ratings_df.head()"
        },
        {
            "cell_type": "code",
            "execution_count": 86,
            "metadata": {},
            "outputs": [],
            "source": "ratings_df.sort_values(by=['userId'], inplace=True)"
        },
        {
            "cell_type": "code",
            "execution_count": 19,
            "metadata": {},
            "outputs": [
                {
                    "data": {
                        "text/html": "<div>\n<style scoped>\n    .dataframe tbody tr th:only-of-type {\n        vertical-align: middle;\n    }\n\n    .dataframe tbody tr th {\n        vertical-align: top;\n    }\n\n    .dataframe thead th {\n        text-align: right;\n    }\n</style>\n<table border=\"1\" class=\"dataframe\">\n  <thead>\n    <tr style=\"text-align: right;\">\n      <th></th>\n      <th>userId</th>\n      <th>movieId</th>\n      <th>rating</th>\n    </tr>\n  </thead>\n  <tbody>\n    <tr>\n      <th>9</th>\n      <td>3</td>\n      <td>2431</td>\n      <td>5.0</td>\n    </tr>\n    <tr>\n      <th>10</th>\n      <td>3</td>\n      <td>2445</td>\n      <td>4.0</td>\n    </tr>\n    <tr>\n      <th>8</th>\n      <td>3</td>\n      <td>2394</td>\n      <td>4.0</td>\n    </tr>\n    <tr>\n      <th>7</th>\n      <td>3</td>\n      <td>356</td>\n      <td>4.0</td>\n    </tr>\n  </tbody>\n</table>\n</div>",
                        "text/plain": "    userId  movieId  rating\n9        3     2431     5.0\n10       3     2445     4.0\n8        3     2394     4.0\n7        3      356     4.0"
                    },
                    "execution_count": 19,
                    "metadata": {},
                    "output_type": "execute_result"
                }
            ],
            "source": "ratings_df.loc[ratings_df['userId']==3]"
        },
        {
            "cell_type": "code",
            "execution_count": 20,
            "metadata": {},
            "outputs": [
                {
                    "data": {
                        "text/html": "<div>\n<style scoped>\n    .dataframe tbody tr th:only-of-type {\n        vertical-align: middle;\n    }\n\n    .dataframe tbody tr th {\n        vertical-align: top;\n    }\n\n    .dataframe thead th {\n        text-align: right;\n    }\n</style>\n<table border=\"1\" class=\"dataframe\">\n  <thead>\n    <tr style=\"text-align: right;\">\n      <th></th>\n      <th>movieId</th>\n      <th>title</th>\n      <th>genres</th>\n      <th>year</th>\n    </tr>\n  </thead>\n  <tbody>\n    <tr>\n      <th>0</th>\n      <td>1</td>\n      <td>Toy Story</td>\n      <td>Adventure|Animation|Children|Comedy|Fantasy</td>\n      <td>1995</td>\n    </tr>\n    <tr>\n      <th>1</th>\n      <td>2</td>\n      <td>Jumanji</td>\n      <td>Adventure|Children|Fantasy</td>\n      <td>1995</td>\n    </tr>\n    <tr>\n      <th>2</th>\n      <td>3</td>\n      <td>Grumpier Old Men</td>\n      <td>Comedy|Romance</td>\n      <td>1995</td>\n    </tr>\n    <tr>\n      <th>3</th>\n      <td>4</td>\n      <td>Waiting to Exhale</td>\n      <td>Comedy|Drama|Romance</td>\n      <td>1995</td>\n    </tr>\n    <tr>\n      <th>4</th>\n      <td>5</td>\n      <td>Father of the Bride Part II</td>\n      <td>Comedy</td>\n      <td>1995</td>\n    </tr>\n  </tbody>\n</table>\n</div>",
                        "text/plain": "   movieId                        title  \\\n0        1                    Toy Story   \n1        2                      Jumanji   \n2        3             Grumpier Old Men   \n3        4            Waiting to Exhale   \n4        5  Father of the Bride Part II   \n\n                                        genres  year  \n0  Adventure|Animation|Children|Comedy|Fantasy  1995  \n1                   Adventure|Children|Fantasy  1995  \n2                               Comedy|Romance  1995  \n3                         Comedy|Drama|Romance  1995  \n4                                       Comedy  1995  "
                    },
                    "execution_count": 20,
                    "metadata": {},
                    "output_type": "execute_result"
                }
            ],
            "source": "movies_df['year'] = movies_df.title.str.extract('(\\d\\d\\d\\d)',expand=False)\nmovies_df['title'] = movies_df.title.str.replace('(\\(\\d\\d\\d\\d\\))', '')\n#get rid of any ending whitespace characters that may have appeared\nmovies_df['title'] = movies_df['title'].apply(lambda x: x.strip())\nmovies_df.head()"
        },
        {
            "cell_type": "code",
            "execution_count": 21,
            "metadata": {},
            "outputs": [
                {
                    "data": {
                        "text/html": "<div>\n<style scoped>\n    .dataframe tbody tr th:only-of-type {\n        vertical-align: middle;\n    }\n\n    .dataframe tbody tr th {\n        vertical-align: top;\n    }\n\n    .dataframe thead th {\n        text-align: right;\n    }\n</style>\n<table border=\"1\" class=\"dataframe\">\n  <thead>\n    <tr style=\"text-align: right;\">\n      <th></th>\n      <th>movieId</th>\n      <th>title</th>\n      <th>genres</th>\n      <th>year</th>\n    </tr>\n  </thead>\n  <tbody>\n    <tr>\n      <th>0</th>\n      <td>1</td>\n      <td>Toy Story</td>\n      <td>[Adventure, Animation, Children, Comedy, Fantasy]</td>\n      <td>1995</td>\n    </tr>\n    <tr>\n      <th>1</th>\n      <td>2</td>\n      <td>Jumanji</td>\n      <td>[Adventure, Children, Fantasy]</td>\n      <td>1995</td>\n    </tr>\n    <tr>\n      <th>2</th>\n      <td>3</td>\n      <td>Grumpier Old Men</td>\n      <td>[Comedy, Romance]</td>\n      <td>1995</td>\n    </tr>\n    <tr>\n      <th>3</th>\n      <td>4</td>\n      <td>Waiting to Exhale</td>\n      <td>[Comedy, Drama, Romance]</td>\n      <td>1995</td>\n    </tr>\n    <tr>\n      <th>4</th>\n      <td>5</td>\n      <td>Father of the Bride Part II</td>\n      <td>[Comedy]</td>\n      <td>1995</td>\n    </tr>\n  </tbody>\n</table>\n</div>",
                        "text/plain": "   movieId                        title  \\\n0        1                    Toy Story   \n1        2                      Jumanji   \n2        3             Grumpier Old Men   \n3        4            Waiting to Exhale   \n4        5  Father of the Bride Part II   \n\n                                              genres  year  \n0  [Adventure, Animation, Children, Comedy, Fantasy]  1995  \n1                     [Adventure, Children, Fantasy]  1995  \n2                                  [Comedy, Romance]  1995  \n3                           [Comedy, Drama, Romance]  1995  \n4                                           [Comedy]  1995  "
                    },
                    "execution_count": 21,
                    "metadata": {},
                    "output_type": "execute_result"
                }
            ],
            "source": "movies_df['genres'] = movies_df.genres.str.split('|')\nmovies_df.head()"
        },
        {
            "cell_type": "code",
            "execution_count": 22,
            "metadata": {},
            "outputs": [
                {
                    "data": {
                        "text/html": "<div>\n<style scoped>\n    .dataframe tbody tr th:only-of-type {\n        vertical-align: middle;\n    }\n\n    .dataframe tbody tr th {\n        vertical-align: top;\n    }\n\n    .dataframe thead th {\n        text-align: right;\n    }\n</style>\n<table border=\"1\" class=\"dataframe\">\n  <thead>\n    <tr style=\"text-align: right;\">\n      <th></th>\n      <th>movieId</th>\n      <th>title</th>\n      <th>genres</th>\n      <th>year</th>\n      <th>Adventure</th>\n      <th>Animation</th>\n      <th>Children</th>\n      <th>Comedy</th>\n      <th>Fantasy</th>\n      <th>Romance</th>\n      <th>...</th>\n      <th>Horror</th>\n      <th>Mystery</th>\n      <th>Sci-Fi</th>\n      <th>IMAX</th>\n      <th>Documentary</th>\n      <th>War</th>\n      <th>Musical</th>\n      <th>Western</th>\n      <th>Film-Noir</th>\n      <th>(no genres listed)</th>\n    </tr>\n  </thead>\n  <tbody>\n    <tr>\n      <th>0</th>\n      <td>1</td>\n      <td>Toy Story</td>\n      <td>[Adventure, Animation, Children, Comedy, Fantasy]</td>\n      <td>1995</td>\n      <td>1.0</td>\n      <td>1.0</td>\n      <td>1.0</td>\n      <td>1.0</td>\n      <td>1.0</td>\n      <td>0.0</td>\n      <td>...</td>\n      <td>0.0</td>\n      <td>0.0</td>\n      <td>0.0</td>\n      <td>0.0</td>\n      <td>0.0</td>\n      <td>0.0</td>\n      <td>0.0</td>\n      <td>0.0</td>\n      <td>0.0</td>\n      <td>0.0</td>\n    </tr>\n    <tr>\n      <th>1</th>\n      <td>2</td>\n      <td>Jumanji</td>\n      <td>[Adventure, Children, Fantasy]</td>\n      <td>1995</td>\n      <td>1.0</td>\n      <td>0.0</td>\n      <td>1.0</td>\n      <td>0.0</td>\n      <td>1.0</td>\n      <td>0.0</td>\n      <td>...</td>\n      <td>0.0</td>\n      <td>0.0</td>\n      <td>0.0</td>\n      <td>0.0</td>\n      <td>0.0</td>\n      <td>0.0</td>\n      <td>0.0</td>\n      <td>0.0</td>\n      <td>0.0</td>\n      <td>0.0</td>\n    </tr>\n    <tr>\n      <th>2</th>\n      <td>3</td>\n      <td>Grumpier Old Men</td>\n      <td>[Comedy, Romance]</td>\n      <td>1995</td>\n      <td>0.0</td>\n      <td>0.0</td>\n      <td>0.0</td>\n      <td>1.0</td>\n      <td>0.0</td>\n      <td>1.0</td>\n      <td>...</td>\n      <td>0.0</td>\n      <td>0.0</td>\n      <td>0.0</td>\n      <td>0.0</td>\n      <td>0.0</td>\n      <td>0.0</td>\n      <td>0.0</td>\n      <td>0.0</td>\n      <td>0.0</td>\n      <td>0.0</td>\n    </tr>\n    <tr>\n      <th>3</th>\n      <td>4</td>\n      <td>Waiting to Exhale</td>\n      <td>[Comedy, Drama, Romance]</td>\n      <td>1995</td>\n      <td>0.0</td>\n      <td>0.0</td>\n      <td>0.0</td>\n      <td>1.0</td>\n      <td>0.0</td>\n      <td>1.0</td>\n      <td>...</td>\n      <td>0.0</td>\n      <td>0.0</td>\n      <td>0.0</td>\n      <td>0.0</td>\n      <td>0.0</td>\n      <td>0.0</td>\n      <td>0.0</td>\n      <td>0.0</td>\n      <td>0.0</td>\n      <td>0.0</td>\n    </tr>\n    <tr>\n      <th>4</th>\n      <td>5</td>\n      <td>Father of the Bride Part II</td>\n      <td>[Comedy]</td>\n      <td>1995</td>\n      <td>0.0</td>\n      <td>0.0</td>\n      <td>0.0</td>\n      <td>1.0</td>\n      <td>0.0</td>\n      <td>0.0</td>\n      <td>...</td>\n      <td>0.0</td>\n      <td>0.0</td>\n      <td>0.0</td>\n      <td>0.0</td>\n      <td>0.0</td>\n      <td>0.0</td>\n      <td>0.0</td>\n      <td>0.0</td>\n      <td>0.0</td>\n      <td>0.0</td>\n    </tr>\n  </tbody>\n</table>\n<p>5 rows \u00d7 24 columns</p>\n</div>",
                        "text/plain": "   movieId                        title  \\\n0        1                    Toy Story   \n1        2                      Jumanji   \n2        3             Grumpier Old Men   \n3        4            Waiting to Exhale   \n4        5  Father of the Bride Part II   \n\n                                              genres  year  Adventure  \\\n0  [Adventure, Animation, Children, Comedy, Fantasy]  1995        1.0   \n1                     [Adventure, Children, Fantasy]  1995        1.0   \n2                                  [Comedy, Romance]  1995        0.0   \n3                           [Comedy, Drama, Romance]  1995        0.0   \n4                                           [Comedy]  1995        0.0   \n\n   Animation  Children  Comedy  Fantasy  Romance  ...  Horror  Mystery  \\\n0        1.0       1.0     1.0      1.0      0.0  ...     0.0      0.0   \n1        0.0       1.0     0.0      1.0      0.0  ...     0.0      0.0   \n2        0.0       0.0     1.0      0.0      1.0  ...     0.0      0.0   \n3        0.0       0.0     1.0      0.0      1.0  ...     0.0      0.0   \n4        0.0       0.0     1.0      0.0      0.0  ...     0.0      0.0   \n\n   Sci-Fi  IMAX  Documentary  War  Musical  Western  Film-Noir  \\\n0     0.0   0.0          0.0  0.0      0.0      0.0        0.0   \n1     0.0   0.0          0.0  0.0      0.0      0.0        0.0   \n2     0.0   0.0          0.0  0.0      0.0      0.0        0.0   \n3     0.0   0.0          0.0  0.0      0.0      0.0        0.0   \n4     0.0   0.0          0.0  0.0      0.0      0.0        0.0   \n\n   (no genres listed)  \n0                 0.0  \n1                 0.0  \n2                 0.0  \n3                 0.0  \n4                 0.0  \n\n[5 rows x 24 columns]"
                    },
                    "execution_count": 22,
                    "metadata": {},
                    "output_type": "execute_result"
                }
            ],
            "source": "moviesWithGenres_df = movies_df.copy()\n\nfor index, row in movies_df.iterrows():\n    for genre in row['genres']:\n        moviesWithGenres_df.at[index, genre] = 1\n\nmoviesWithGenres_df = moviesWithGenres_df.fillna(0)\nmoviesWithGenres_df.head()"
        },
        {
            "cell_type": "markdown",
            "metadata": {},
            "source": "# Part 1: Content-Based recommendation system"
        },
        {
            "cell_type": "code",
            "execution_count": 58,
            "metadata": {},
            "outputs": [
                {
                    "data": {
                        "text/html": "<div>\n<style scoped>\n    .dataframe tbody tr th:only-of-type {\n        vertical-align: middle;\n    }\n\n    .dataframe tbody tr th {\n        vertical-align: top;\n    }\n\n    .dataframe thead th {\n        text-align: right;\n    }\n</style>\n<table border=\"1\" class=\"dataframe\">\n  <thead>\n    <tr style=\"text-align: right;\">\n      <th></th>\n      <th>userId</th>\n      <th>movieId</th>\n      <th>rating</th>\n    </tr>\n  </thead>\n  <tbody>\n    <tr>\n      <th>9</th>\n      <td>3</td>\n      <td>2431</td>\n      <td>5.0</td>\n    </tr>\n    <tr>\n      <th>10</th>\n      <td>3</td>\n      <td>2445</td>\n      <td>4.0</td>\n    </tr>\n    <tr>\n      <th>8</th>\n      <td>3</td>\n      <td>2394</td>\n      <td>4.0</td>\n    </tr>\n    <tr>\n      <th>7</th>\n      <td>3</td>\n      <td>356</td>\n      <td>4.0</td>\n    </tr>\n  </tbody>\n</table>\n</div>",
                        "text/plain": "    userId  movieId  rating\n9        3     2431     5.0\n10       3     2445     4.0\n8        3     2394     4.0\n7        3      356     4.0"
                    },
                    "execution_count": 58,
                    "metadata": {},
                    "output_type": "execute_result"
                }
            ],
            "source": "inputMovies=ratings_df.loc[ratings_df['userId']==3]\ninputMovies.reset_index(drop=True)\ninputMovies"
        },
        {
            "cell_type": "code",
            "execution_count": 59,
            "metadata": {},
            "outputs": [
                {
                    "data": {
                        "text/html": "<div>\n<style scoped>\n    .dataframe tbody tr th:only-of-type {\n        vertical-align: middle;\n    }\n\n    .dataframe tbody tr th {\n        vertical-align: top;\n    }\n\n    .dataframe thead th {\n        text-align: right;\n    }\n</style>\n<table border=\"1\" class=\"dataframe\">\n  <thead>\n    <tr style=\"text-align: right;\">\n      <th></th>\n      <th>userId</th>\n      <th>movieId</th>\n      <th>rating</th>\n      <th>movieId</th>\n      <th>title</th>\n      <th>genres</th>\n      <th>year</th>\n      <th>Adventure</th>\n      <th>Animation</th>\n      <th>Children</th>\n      <th>...</th>\n      <th>Horror</th>\n      <th>Mystery</th>\n      <th>Sci-Fi</th>\n      <th>IMAX</th>\n      <th>Documentary</th>\n      <th>War</th>\n      <th>Musical</th>\n      <th>Western</th>\n      <th>Film-Noir</th>\n      <th>(no genres listed)</th>\n    </tr>\n  </thead>\n  <tbody>\n    <tr>\n      <th>9</th>\n      <td>3</td>\n      <td>2431</td>\n      <td>5.0</td>\n      <td>10</td>\n      <td>GoldenEye</td>\n      <td>[Action, Adventure, Thriller]</td>\n      <td>1995</td>\n      <td>1.0</td>\n      <td>0.0</td>\n      <td>0.0</td>\n      <td>...</td>\n      <td>0.0</td>\n      <td>0.0</td>\n      <td>0.0</td>\n      <td>0.0</td>\n      <td>0.0</td>\n      <td>0.0</td>\n      <td>0.0</td>\n      <td>0.0</td>\n      <td>0.0</td>\n      <td>0.0</td>\n    </tr>\n    <tr>\n      <th>10</th>\n      <td>3</td>\n      <td>2445</td>\n      <td>4.0</td>\n      <td>11</td>\n      <td>American President, The</td>\n      <td>[Comedy, Drama, Romance]</td>\n      <td>1995</td>\n      <td>0.0</td>\n      <td>0.0</td>\n      <td>0.0</td>\n      <td>...</td>\n      <td>0.0</td>\n      <td>0.0</td>\n      <td>0.0</td>\n      <td>0.0</td>\n      <td>0.0</td>\n      <td>0.0</td>\n      <td>0.0</td>\n      <td>0.0</td>\n      <td>0.0</td>\n      <td>0.0</td>\n    </tr>\n    <tr>\n      <th>8</th>\n      <td>3</td>\n      <td>2394</td>\n      <td>4.0</td>\n      <td>9</td>\n      <td>Sudden Death</td>\n      <td>[Action]</td>\n      <td>1995</td>\n      <td>0.0</td>\n      <td>0.0</td>\n      <td>0.0</td>\n      <td>...</td>\n      <td>0.0</td>\n      <td>0.0</td>\n      <td>0.0</td>\n      <td>0.0</td>\n      <td>0.0</td>\n      <td>0.0</td>\n      <td>0.0</td>\n      <td>0.0</td>\n      <td>0.0</td>\n      <td>0.0</td>\n    </tr>\n    <tr>\n      <th>7</th>\n      <td>3</td>\n      <td>356</td>\n      <td>4.0</td>\n      <td>8</td>\n      <td>Tom and Huck</td>\n      <td>[Adventure, Children]</td>\n      <td>1995</td>\n      <td>1.0</td>\n      <td>0.0</td>\n      <td>1.0</td>\n      <td>...</td>\n      <td>0.0</td>\n      <td>0.0</td>\n      <td>0.0</td>\n      <td>0.0</td>\n      <td>0.0</td>\n      <td>0.0</td>\n      <td>0.0</td>\n      <td>0.0</td>\n      <td>0.0</td>\n      <td>0.0</td>\n    </tr>\n  </tbody>\n</table>\n<p>4 rows \u00d7 27 columns</p>\n</div>",
                        "text/plain": "    userId  movieId  rating  movieId                    title  \\\n9        3     2431     5.0       10                GoldenEye   \n10       3     2445     4.0       11  American President, The   \n8        3     2394     4.0        9             Sudden Death   \n7        3      356     4.0        8             Tom and Huck   \n\n                           genres  year  Adventure  Animation  Children  ...  \\\n9   [Action, Adventure, Thriller]  1995        1.0        0.0       0.0  ...   \n10       [Comedy, Drama, Romance]  1995        0.0        0.0       0.0  ...   \n8                        [Action]  1995        0.0        0.0       0.0  ...   \n7           [Adventure, Children]  1995        1.0        0.0       1.0  ...   \n\n    Horror  Mystery  Sci-Fi  IMAX  Documentary  War  Musical  Western  \\\n9      0.0      0.0     0.0   0.0          0.0  0.0      0.0      0.0   \n10     0.0      0.0     0.0   0.0          0.0  0.0      0.0      0.0   \n8      0.0      0.0     0.0   0.0          0.0  0.0      0.0      0.0   \n7      0.0      0.0     0.0   0.0          0.0  0.0      0.0      0.0   \n\n    Film-Noir  (no genres listed)  \n9         0.0                 0.0  \n10        0.0                 0.0  \n8         0.0                 0.0  \n7         0.0                 0.0  \n\n[4 rows x 27 columns]"
                    },
                    "execution_count": 59,
                    "metadata": {},
                    "output_type": "execute_result"
                }
            ],
            "source": "userMovies = pd.concat([inputMovies, moviesWithGenres_df], axis=1, join='inner')\nuserMovies"
        },
        {
            "cell_type": "code",
            "execution_count": 60,
            "metadata": {},
            "outputs": [
                {
                    "data": {
                        "text/plain": "9     5.0\n10    4.0\n8     4.0\n7     4.0\nName: rating, dtype: float64"
                    },
                    "execution_count": 60,
                    "metadata": {},
                    "output_type": "execute_result"
                }
            ],
            "source": "inputMovies['rating']"
        },
        {
            "cell_type": "code",
            "execution_count": 61,
            "metadata": {},
            "outputs": [],
            "source": "userGenreTable = userMovies.drop('movieId', 1).drop('title', 1).drop('genres', 1).drop('year', 1).drop('userId', 1).drop('rating', 1)"
        },
        {
            "cell_type": "code",
            "execution_count": 62,
            "metadata": {},
            "outputs": [
                {
                    "data": {
                        "text/html": "<div>\n<style scoped>\n    .dataframe tbody tr th:only-of-type {\n        vertical-align: middle;\n    }\n\n    .dataframe tbody tr th {\n        vertical-align: top;\n    }\n\n    .dataframe thead th {\n        text-align: right;\n    }\n</style>\n<table border=\"1\" class=\"dataframe\">\n  <thead>\n    <tr style=\"text-align: right;\">\n      <th></th>\n      <th>Adventure</th>\n      <th>Animation</th>\n      <th>Children</th>\n      <th>Comedy</th>\n      <th>Fantasy</th>\n      <th>Romance</th>\n      <th>Drama</th>\n      <th>Action</th>\n      <th>Crime</th>\n      <th>Thriller</th>\n      <th>Horror</th>\n      <th>Mystery</th>\n      <th>Sci-Fi</th>\n      <th>IMAX</th>\n      <th>Documentary</th>\n      <th>War</th>\n      <th>Musical</th>\n      <th>Western</th>\n      <th>Film-Noir</th>\n      <th>(no genres listed)</th>\n    </tr>\n  </thead>\n  <tbody>\n    <tr>\n      <th>9</th>\n      <td>1.0</td>\n      <td>0.0</td>\n      <td>0.0</td>\n      <td>0.0</td>\n      <td>0.0</td>\n      <td>0.0</td>\n      <td>0.0</td>\n      <td>1.0</td>\n      <td>0.0</td>\n      <td>1.0</td>\n      <td>0.0</td>\n      <td>0.0</td>\n      <td>0.0</td>\n      <td>0.0</td>\n      <td>0.0</td>\n      <td>0.0</td>\n      <td>0.0</td>\n      <td>0.0</td>\n      <td>0.0</td>\n      <td>0.0</td>\n    </tr>\n    <tr>\n      <th>10</th>\n      <td>0.0</td>\n      <td>0.0</td>\n      <td>0.0</td>\n      <td>1.0</td>\n      <td>0.0</td>\n      <td>1.0</td>\n      <td>1.0</td>\n      <td>0.0</td>\n      <td>0.0</td>\n      <td>0.0</td>\n      <td>0.0</td>\n      <td>0.0</td>\n      <td>0.0</td>\n      <td>0.0</td>\n      <td>0.0</td>\n      <td>0.0</td>\n      <td>0.0</td>\n      <td>0.0</td>\n      <td>0.0</td>\n      <td>0.0</td>\n    </tr>\n    <tr>\n      <th>8</th>\n      <td>0.0</td>\n      <td>0.0</td>\n      <td>0.0</td>\n      <td>0.0</td>\n      <td>0.0</td>\n      <td>0.0</td>\n      <td>0.0</td>\n      <td>1.0</td>\n      <td>0.0</td>\n      <td>0.0</td>\n      <td>0.0</td>\n      <td>0.0</td>\n      <td>0.0</td>\n      <td>0.0</td>\n      <td>0.0</td>\n      <td>0.0</td>\n      <td>0.0</td>\n      <td>0.0</td>\n      <td>0.0</td>\n      <td>0.0</td>\n    </tr>\n    <tr>\n      <th>7</th>\n      <td>1.0</td>\n      <td>0.0</td>\n      <td>1.0</td>\n      <td>0.0</td>\n      <td>0.0</td>\n      <td>0.0</td>\n      <td>0.0</td>\n      <td>0.0</td>\n      <td>0.0</td>\n      <td>0.0</td>\n      <td>0.0</td>\n      <td>0.0</td>\n      <td>0.0</td>\n      <td>0.0</td>\n      <td>0.0</td>\n      <td>0.0</td>\n      <td>0.0</td>\n      <td>0.0</td>\n      <td>0.0</td>\n      <td>0.0</td>\n    </tr>\n  </tbody>\n</table>\n</div>",
                        "text/plain": "    Adventure  Animation  Children  Comedy  Fantasy  Romance  Drama  Action  \\\n9         1.0        0.0       0.0     0.0      0.0      0.0    0.0     1.0   \n10        0.0        0.0       0.0     1.0      0.0      1.0    1.0     0.0   \n8         0.0        0.0       0.0     0.0      0.0      0.0    0.0     1.0   \n7         1.0        0.0       1.0     0.0      0.0      0.0    0.0     0.0   \n\n    Crime  Thriller  Horror  Mystery  Sci-Fi  IMAX  Documentary  War  Musical  \\\n9     0.0       1.0     0.0      0.0     0.0   0.0          0.0  0.0      0.0   \n10    0.0       0.0     0.0      0.0     0.0   0.0          0.0  0.0      0.0   \n8     0.0       0.0     0.0      0.0     0.0   0.0          0.0  0.0      0.0   \n7     0.0       0.0     0.0      0.0     0.0   0.0          0.0  0.0      0.0   \n\n    Western  Film-Noir  (no genres listed)  \n9       0.0        0.0                 0.0  \n10      0.0        0.0                 0.0  \n8       0.0        0.0                 0.0  \n7       0.0        0.0                 0.0  "
                    },
                    "execution_count": 62,
                    "metadata": {},
                    "output_type": "execute_result"
                }
            ],
            "source": "userGenreTable.astype(float)"
        },
        {
            "cell_type": "code",
            "execution_count": 63,
            "metadata": {},
            "outputs": [
                {
                    "data": {
                        "text/plain": "Adventure             float64\nAnimation             float64\nChildren              float64\nComedy                float64\nFantasy               float64\nRomance               float64\nDrama                 float64\nAction                float64\nCrime                 float64\nThriller              float64\nHorror                float64\nMystery               float64\nSci-Fi                float64\nIMAX                  float64\nDocumentary           float64\nWar                   float64\nMusical               float64\nWestern               float64\nFilm-Noir             float64\n(no genres listed)    float64\ndtype: object"
                    },
                    "execution_count": 63,
                    "metadata": {},
                    "output_type": "execute_result"
                }
            ],
            "source": "userGenreTable.dtypes"
        },
        {
            "cell_type": "code",
            "execution_count": 64,
            "metadata": {},
            "outputs": [
                {
                    "data": {
                        "text/plain": "Adventure             9.0\nAnimation             0.0\nChildren              4.0\nComedy                4.0\nFantasy               0.0\nRomance               4.0\nDrama                 4.0\nAction                9.0\nCrime                 0.0\nThriller              5.0\nHorror                0.0\nMystery               0.0\nSci-Fi                0.0\nIMAX                  0.0\nDocumentary           0.0\nWar                   0.0\nMusical               0.0\nWestern               0.0\nFilm-Noir             0.0\n(no genres listed)    0.0\ndtype: float64"
                    },
                    "execution_count": 64,
                    "metadata": {},
                    "output_type": "execute_result"
                }
            ],
            "source": "userProfile = userGenreTable.transpose().dot(inputMovies['rating'])\nuserProfile"
        },
        {
            "cell_type": "code",
            "execution_count": 65,
            "metadata": {},
            "outputs": [
                {
                    "data": {
                        "text/html": "<div>\n<style scoped>\n    .dataframe tbody tr th:only-of-type {\n        vertical-align: middle;\n    }\n\n    .dataframe tbody tr th {\n        vertical-align: top;\n    }\n\n    .dataframe thead th {\n        text-align: right;\n    }\n</style>\n<table border=\"1\" class=\"dataframe\">\n  <thead>\n    <tr style=\"text-align: right;\">\n      <th></th>\n      <th>Adventure</th>\n      <th>Animation</th>\n      <th>Children</th>\n      <th>Comedy</th>\n      <th>Fantasy</th>\n      <th>Romance</th>\n      <th>Drama</th>\n      <th>Action</th>\n      <th>Crime</th>\n      <th>Thriller</th>\n      <th>Horror</th>\n      <th>Mystery</th>\n      <th>Sci-Fi</th>\n      <th>IMAX</th>\n      <th>Documentary</th>\n      <th>War</th>\n      <th>Musical</th>\n      <th>Western</th>\n      <th>Film-Noir</th>\n      <th>(no genres listed)</th>\n    </tr>\n    <tr>\n      <th>movieId</th>\n      <th></th>\n      <th></th>\n      <th></th>\n      <th></th>\n      <th></th>\n      <th></th>\n      <th></th>\n      <th></th>\n      <th></th>\n      <th></th>\n      <th></th>\n      <th></th>\n      <th></th>\n      <th></th>\n      <th></th>\n      <th></th>\n      <th></th>\n      <th></th>\n      <th></th>\n      <th></th>\n    </tr>\n  </thead>\n  <tbody>\n    <tr>\n      <th>1</th>\n      <td>1.0</td>\n      <td>1.0</td>\n      <td>1.0</td>\n      <td>1.0</td>\n      <td>1.0</td>\n      <td>0.0</td>\n      <td>0.0</td>\n      <td>0.0</td>\n      <td>0.0</td>\n      <td>0.0</td>\n      <td>0.0</td>\n      <td>0.0</td>\n      <td>0.0</td>\n      <td>0.0</td>\n      <td>0.0</td>\n      <td>0.0</td>\n      <td>0.0</td>\n      <td>0.0</td>\n      <td>0.0</td>\n      <td>0.0</td>\n    </tr>\n    <tr>\n      <th>2</th>\n      <td>1.0</td>\n      <td>0.0</td>\n      <td>1.0</td>\n      <td>0.0</td>\n      <td>1.0</td>\n      <td>0.0</td>\n      <td>0.0</td>\n      <td>0.0</td>\n      <td>0.0</td>\n      <td>0.0</td>\n      <td>0.0</td>\n      <td>0.0</td>\n      <td>0.0</td>\n      <td>0.0</td>\n      <td>0.0</td>\n      <td>0.0</td>\n      <td>0.0</td>\n      <td>0.0</td>\n      <td>0.0</td>\n      <td>0.0</td>\n    </tr>\n    <tr>\n      <th>3</th>\n      <td>0.0</td>\n      <td>0.0</td>\n      <td>0.0</td>\n      <td>1.0</td>\n      <td>0.0</td>\n      <td>1.0</td>\n      <td>0.0</td>\n      <td>0.0</td>\n      <td>0.0</td>\n      <td>0.0</td>\n      <td>0.0</td>\n      <td>0.0</td>\n      <td>0.0</td>\n      <td>0.0</td>\n      <td>0.0</td>\n      <td>0.0</td>\n      <td>0.0</td>\n      <td>0.0</td>\n      <td>0.0</td>\n      <td>0.0</td>\n    </tr>\n    <tr>\n      <th>4</th>\n      <td>0.0</td>\n      <td>0.0</td>\n      <td>0.0</td>\n      <td>1.0</td>\n      <td>0.0</td>\n      <td>1.0</td>\n      <td>1.0</td>\n      <td>0.0</td>\n      <td>0.0</td>\n      <td>0.0</td>\n      <td>0.0</td>\n      <td>0.0</td>\n      <td>0.0</td>\n      <td>0.0</td>\n      <td>0.0</td>\n      <td>0.0</td>\n      <td>0.0</td>\n      <td>0.0</td>\n      <td>0.0</td>\n      <td>0.0</td>\n    </tr>\n    <tr>\n      <th>5</th>\n      <td>0.0</td>\n      <td>0.0</td>\n      <td>0.0</td>\n      <td>1.0</td>\n      <td>0.0</td>\n      <td>0.0</td>\n      <td>0.0</td>\n      <td>0.0</td>\n      <td>0.0</td>\n      <td>0.0</td>\n      <td>0.0</td>\n      <td>0.0</td>\n      <td>0.0</td>\n      <td>0.0</td>\n      <td>0.0</td>\n      <td>0.0</td>\n      <td>0.0</td>\n      <td>0.0</td>\n      <td>0.0</td>\n      <td>0.0</td>\n    </tr>\n  </tbody>\n</table>\n</div>",
                        "text/plain": "         Adventure  Animation  Children  Comedy  Fantasy  Romance  Drama  \\\nmovieId                                                                    \n1              1.0        1.0       1.0     1.0      1.0      0.0    0.0   \n2              1.0        0.0       1.0     0.0      1.0      0.0    0.0   \n3              0.0        0.0       0.0     1.0      0.0      1.0    0.0   \n4              0.0        0.0       0.0     1.0      0.0      1.0    1.0   \n5              0.0        0.0       0.0     1.0      0.0      0.0    0.0   \n\n         Action  Crime  Thriller  Horror  Mystery  Sci-Fi  IMAX  Documentary  \\\nmovieId                                                                        \n1           0.0    0.0       0.0     0.0      0.0     0.0   0.0          0.0   \n2           0.0    0.0       0.0     0.0      0.0     0.0   0.0          0.0   \n3           0.0    0.0       0.0     0.0      0.0     0.0   0.0          0.0   \n4           0.0    0.0       0.0     0.0      0.0     0.0   0.0          0.0   \n5           0.0    0.0       0.0     0.0      0.0     0.0   0.0          0.0   \n\n         War  Musical  Western  Film-Noir  (no genres listed)  \nmovieId                                                        \n1        0.0      0.0      0.0        0.0                 0.0  \n2        0.0      0.0      0.0        0.0                 0.0  \n3        0.0      0.0      0.0        0.0                 0.0  \n4        0.0      0.0      0.0        0.0                 0.0  \n5        0.0      0.0      0.0        0.0                 0.0  "
                    },
                    "execution_count": 65,
                    "metadata": {},
                    "output_type": "execute_result"
                }
            ],
            "source": "genreTable = moviesWithGenres_df.set_index(moviesWithGenres_df['movieId'])\n#And drop the unnecessary information\ngenreTable = genreTable.drop('movieId', 1).drop('title', 1).drop('genres', 1).drop('year', 1)\ngenreTable.head()"
        },
        {
            "cell_type": "code",
            "execution_count": 73,
            "metadata": {},
            "outputs": [],
            "source": "recommendationTable_df = ((genreTable*userProfile).sum(axis=1))/(userProfile.sum())\n"
        },
        {
            "cell_type": "code",
            "execution_count": 74,
            "metadata": {},
            "outputs": [
                {
                    "data": {
                        "text/plain": "movieId\n83266    0.897436\n4956     0.897436\n31367    0.794872\n74404    0.794872\n74406    0.794872\ndtype: float64"
                    },
                    "execution_count": 74,
                    "metadata": {},
                    "output_type": "execute_result"
                }
            ],
            "source": "\nrecommendationTable_df = recommendationTable_df.sort_values(ascending=False)\n\nrecommendationTable_df.head()"
        },
        {
            "cell_type": "code",
            "execution_count": 75,
            "metadata": {},
            "outputs": [
                {
                    "data": {
                        "text/html": "<div>\n<style scoped>\n    .dataframe tbody tr th:only-of-type {\n        vertical-align: middle;\n    }\n\n    .dataframe tbody tr th {\n        vertical-align: top;\n    }\n\n    .dataframe thead th {\n        text-align: right;\n    }\n</style>\n<table border=\"1\" class=\"dataframe\">\n  <thead>\n    <tr style=\"text-align: right;\">\n      <th></th>\n      <th>movieId</th>\n      <th>title</th>\n      <th>genres</th>\n      <th>year</th>\n    </tr>\n  </thead>\n  <tbody>\n    <tr>\n      <th>376</th>\n      <td>380</td>\n      <td>True Lies</td>\n      <td>[Action, Adventure, Comedy, Romance, Thriller]</td>\n      <td>1994</td>\n    </tr>\n    <tr>\n      <th>455</th>\n      <td>459</td>\n      <td>Getaway, The</td>\n      <td>[Action, Adventure, Crime, Drama, Romance, Thr...</td>\n      <td>1994</td>\n    </tr>\n    <tr>\n      <th>4705</th>\n      <td>4800</td>\n      <td>King Solomon's Mines</td>\n      <td>[Action, Adventure, Drama, Romance, Thriller]</td>\n      <td>1937</td>\n    </tr>\n    <tr>\n      <th>4861</th>\n      <td>4956</td>\n      <td>Stunt Man, The</td>\n      <td>[Action, Adventure, Comedy, Drama, Romance, Th...</td>\n      <td>1980</td>\n    </tr>\n    <tr>\n      <th>6455</th>\n      <td>6564</td>\n      <td>Lara Croft Tomb Raider: The Cradle of Life</td>\n      <td>[Action, Adventure, Comedy, Romance, Thriller]</td>\n      <td>2003</td>\n    </tr>\n    <tr>\n      <th>7839</th>\n      <td>8481</td>\n      <td>Northwest Passage</td>\n      <td>[Action, Adventure, Drama, Romance, Thriller, ...</td>\n      <td>1940</td>\n    </tr>\n    <tr>\n      <th>9296</th>\n      <td>27344</td>\n      <td>Revolutionary Girl Utena: Adolescence of Utena...</td>\n      <td>[Action, Adventure, Animation, Comedy, Drama, ...</td>\n      <td>1999</td>\n    </tr>\n    <tr>\n      <th>9459</th>\n      <td>27735</td>\n      <td>Unstoppable</td>\n      <td>[Action, Adventure, Comedy, Drama, Thriller]</td>\n      <td>2004</td>\n    </tr>\n    <tr>\n      <th>9697</th>\n      <td>31367</td>\n      <td>Chase, The</td>\n      <td>[Action, Adventure, Comedy, Crime, Romance, Th...</td>\n      <td>1994</td>\n    </tr>\n    <tr>\n      <th>10298</th>\n      <td>34435</td>\n      <td>Sholay</td>\n      <td>[Action, Adventure, Comedy, Musical, Romance, ...</td>\n      <td>1975</td>\n    </tr>\n    <tr>\n      <th>12123</th>\n      <td>55116</td>\n      <td>Hunting Party, The</td>\n      <td>[Action, Adventure, Comedy, Drama, Thriller]</td>\n      <td>2007</td>\n    </tr>\n    <tr>\n      <th>12444</th>\n      <td>57854</td>\n      <td>The Count of Monte Cristo</td>\n      <td>[Action, Adventure, Drama, Romance, Thriller]</td>\n      <td>1934</td>\n    </tr>\n    <tr>\n      <th>13250</th>\n      <td>64645</td>\n      <td>The Wrecking Crew</td>\n      <td>[Action, Adventure, Comedy, Crime, Drama, Thri...</td>\n      <td>1968</td>\n    </tr>\n    <tr>\n      <th>14397</th>\n      <td>71999</td>\n      <td>Aelita: The Queen of Mars (Aelita)</td>\n      <td>[Action, Adventure, Drama, Fantasy, Romance, S...</td>\n      <td>1924</td>\n    </tr>\n    <tr>\n      <th>14881</th>\n      <td>74404</td>\n      <td>Hero: Love Story of a Spy, The</td>\n      <td>[Action, Adventure, Drama, Musical, Romance, T...</td>\n      <td>2003</td>\n    </tr>\n    <tr>\n      <th>14882</th>\n      <td>74406</td>\n      <td>Lucky: No Time For Love</td>\n      <td>[Action, Adventure, Drama, Musical, Romance, T...</td>\n      <td>2005</td>\n    </tr>\n    <tr>\n      <th>16055</th>\n      <td>81132</td>\n      <td>Rubber</td>\n      <td>[Action, Adventure, Comedy, Crime, Drama, Film...</td>\n      <td>2010</td>\n    </tr>\n    <tr>\n      <th>16504</th>\n      <td>83266</td>\n      <td>Kaho Naa... Pyaar Hai</td>\n      <td>[Action, Adventure, Comedy, Drama, Mystery, Ro...</td>\n      <td>2000</td>\n    </tr>\n    <tr>\n      <th>25218</th>\n      <td>117646</td>\n      <td>Dragonheart 2: A New Beginning</td>\n      <td>[Action, Adventure, Comedy, Drama, Fantasy, Th...</td>\n      <td>2000</td>\n    </tr>\n    <tr>\n      <th>26442</th>\n      <td>122787</td>\n      <td>The 39 Steps</td>\n      <td>[Action, Adventure, Comedy, Crime, Drama, Thri...</td>\n      <td>1959</td>\n    </tr>\n  </tbody>\n</table>\n</div>",
                        "text/plain": "       movieId                                              title  \\\n376        380                                          True Lies   \n455        459                                       Getaway, The   \n4705      4800                               King Solomon's Mines   \n4861      4956                                     Stunt Man, The   \n6455      6564         Lara Croft Tomb Raider: The Cradle of Life   \n7839      8481                                  Northwest Passage   \n9296     27344  Revolutionary Girl Utena: Adolescence of Utena...   \n9459     27735                                        Unstoppable   \n9697     31367                                         Chase, The   \n10298    34435                                             Sholay   \n12123    55116                                 Hunting Party, The   \n12444    57854                          The Count of Monte Cristo   \n13250    64645                                  The Wrecking Crew   \n14397    71999                 Aelita: The Queen of Mars (Aelita)   \n14881    74404                     Hero: Love Story of a Spy, The   \n14882    74406                            Lucky: No Time For Love   \n16055    81132                                             Rubber   \n16504    83266                              Kaho Naa... Pyaar Hai   \n25218   117646                     Dragonheart 2: A New Beginning   \n26442   122787                                       The 39 Steps   \n\n                                                  genres  year  \n376       [Action, Adventure, Comedy, Romance, Thriller]  1994  \n455    [Action, Adventure, Crime, Drama, Romance, Thr...  1994  \n4705       [Action, Adventure, Drama, Romance, Thriller]  1937  \n4861   [Action, Adventure, Comedy, Drama, Romance, Th...  1980  \n6455      [Action, Adventure, Comedy, Romance, Thriller]  2003  \n7839   [Action, Adventure, Drama, Romance, Thriller, ...  1940  \n9296   [Action, Adventure, Animation, Comedy, Drama, ...  1999  \n9459        [Action, Adventure, Comedy, Drama, Thriller]  2004  \n9697   [Action, Adventure, Comedy, Crime, Romance, Th...  1994  \n10298  [Action, Adventure, Comedy, Musical, Romance, ...  1975  \n12123       [Action, Adventure, Comedy, Drama, Thriller]  2007  \n12444      [Action, Adventure, Drama, Romance, Thriller]  1934  \n13250  [Action, Adventure, Comedy, Crime, Drama, Thri...  1968  \n14397  [Action, Adventure, Drama, Fantasy, Romance, S...  1924  \n14881  [Action, Adventure, Drama, Musical, Romance, T...  2003  \n14882  [Action, Adventure, Drama, Musical, Romance, T...  2005  \n16055  [Action, Adventure, Comedy, Crime, Drama, Film...  2010  \n16504  [Action, Adventure, Comedy, Drama, Mystery, Ro...  2000  \n25218  [Action, Adventure, Comedy, Drama, Fantasy, Th...  2000  \n26442  [Action, Adventure, Comedy, Crime, Drama, Thri...  1959  "
                    },
                    "execution_count": 75,
                    "metadata": {},
                    "output_type": "execute_result"
                }
            ],
            "source": "movies_df.loc[movies_df['movieId'].isin(recommendationTable_df.head(20).keys())]"
        },
        {
            "cell_type": "markdown",
            "metadata": {},
            "source": "# Part 2: Collaborative Filtering"
        },
        {
            "cell_type": "code",
            "execution_count": 88,
            "metadata": {},
            "outputs": [
                {
                    "data": {
                        "text/html": "<div>\n<style scoped>\n    .dataframe tbody tr th:only-of-type {\n        vertical-align: middle;\n    }\n\n    .dataframe tbody tr th {\n        vertical-align: top;\n    }\n\n    .dataframe thead th {\n        text-align: right;\n    }\n</style>\n<table border=\"1\" class=\"dataframe\">\n  <thead>\n    <tr style=\"text-align: right;\">\n      <th></th>\n      <th>userId</th>\n      <th>movieId</th>\n      <th>rating</th>\n    </tr>\n  </thead>\n  <tbody>\n    <tr>\n      <th>10</th>\n      <td>3</td>\n      <td>2445</td>\n      <td>4.0</td>\n    </tr>\n    <tr>\n      <th>9</th>\n      <td>3</td>\n      <td>2431</td>\n      <td>5.0</td>\n    </tr>\n    <tr>\n      <th>7</th>\n      <td>3</td>\n      <td>356</td>\n      <td>4.0</td>\n    </tr>\n    <tr>\n      <th>8</th>\n      <td>3</td>\n      <td>2394</td>\n      <td>4.0</td>\n    </tr>\n  </tbody>\n</table>\n</div>",
                        "text/plain": "    userId  movieId  rating\n10       3     2445     4.0\n9        3     2431     5.0\n7        3      356     4.0\n8        3     2394     4.0"
                    },
                    "execution_count": 88,
                    "metadata": {},
                    "output_type": "execute_result"
                }
            ],
            "source": "inputMovies=ratings_df.loc[ratings_df['userId']==3]\ninputMovies.reset_index(drop=True)\ninputMovies"
        },
        {
            "cell_type": "code",
            "execution_count": 92,
            "metadata": {
                "scrolled": true
            },
            "outputs": [
                {
                    "data": {
                        "text/html": "<div>\n<style scoped>\n    .dataframe tbody tr th:only-of-type {\n        vertical-align: middle;\n    }\n\n    .dataframe tbody tr th {\n        vertical-align: top;\n    }\n\n    .dataframe thead th {\n        text-align: right;\n    }\n</style>\n<table border=\"1\" class=\"dataframe\">\n  <thead>\n    <tr style=\"text-align: right;\">\n      <th></th>\n      <th>userId</th>\n      <th>movieId</th>\n      <th>rating</th>\n    </tr>\n  </thead>\n  <tbody>\n    <tr>\n      <th>21</th>\n      <td>4</td>\n      <td>356</td>\n      <td>2.0</td>\n    </tr>\n    <tr>\n      <th>355</th>\n      <td>11</td>\n      <td>2431</td>\n      <td>2.5</td>\n    </tr>\n    <tr>\n      <th>577</th>\n      <td>13</td>\n      <td>2394</td>\n      <td>3.0</td>\n    </tr>\n    <tr>\n      <th>692</th>\n      <td>14</td>\n      <td>356</td>\n      <td>5.0</td>\n    </tr>\n    <tr>\n      <th>786</th>\n      <td>15</td>\n      <td>356</td>\n      <td>4.5</td>\n    </tr>\n    <tr>\n      <th>2049</th>\n      <td>17</td>\n      <td>2431</td>\n      <td>3.0</td>\n    </tr>\n    <tr>\n      <th>2023</th>\n      <td>17</td>\n      <td>2394</td>\n      <td>3.0</td>\n    </tr>\n    <tr>\n      <th>1352</th>\n      <td>17</td>\n      <td>356</td>\n      <td>5.0</td>\n    </tr>\n    <tr>\n      <th>2292</th>\n      <td>18</td>\n      <td>356</td>\n      <td>3.0</td>\n    </tr>\n    <tr>\n      <th>2796</th>\n      <td>23</td>\n      <td>2394</td>\n      <td>4.0</td>\n    </tr>\n    <tr>\n      <th>3137</th>\n      <td>29</td>\n      <td>356</td>\n      <td>5.0</td>\n    </tr>\n    <tr>\n      <th>3148</th>\n      <td>30</td>\n      <td>356</td>\n      <td>4.0</td>\n    </tr>\n    <tr>\n      <th>3371</th>\n      <td>32</td>\n      <td>356</td>\n      <td>2.0</td>\n    </tr>\n    <tr>\n      <th>3426</th>\n      <td>34</td>\n      <td>356</td>\n      <td>4.0</td>\n    </tr>\n    <tr>\n      <th>3628</th>\n      <td>37</td>\n      <td>356</td>\n      <td>5.0</td>\n    </tr>\n    <tr>\n      <th>3989</th>\n      <td>38</td>\n      <td>2394</td>\n      <td>3.5</td>\n    </tr>\n    <tr>\n      <th>4751</th>\n      <td>40</td>\n      <td>356</td>\n      <td>3.0</td>\n    </tr>\n    <tr>\n      <th>4961</th>\n      <td>43</td>\n      <td>356</td>\n      <td>5.0</td>\n    </tr>\n    <tr>\n      <th>4998</th>\n      <td>45</td>\n      <td>356</td>\n      <td>3.0</td>\n    </tr>\n    <tr>\n      <th>5153</th>\n      <td>47</td>\n      <td>356</td>\n      <td>3.5</td>\n    </tr>\n  </tbody>\n</table>\n</div>",
                        "text/plain": "      userId  movieId  rating\n21         4      356     2.0\n355       11     2431     2.5\n577       13     2394     3.0\n692       14      356     5.0\n786       15      356     4.5\n2049      17     2431     3.0\n2023      17     2394     3.0\n1352      17      356     5.0\n2292      18      356     3.0\n2796      23     2394     4.0\n3137      29      356     5.0\n3148      30      356     4.0\n3371      32      356     2.0\n3426      34      356     4.0\n3628      37      356     5.0\n3989      38     2394     3.5\n4751      40      356     3.0\n4961      43      356     5.0\n4998      45      356     3.0\n5153      47      356     3.5"
                    },
                    "execution_count": 92,
                    "metadata": {},
                    "output_type": "execute_result"
                }
            ],
            "source": "userSubset = ratings_df[ratings_df['movieId'].isin(inputMovies['movieId'].tolist())]\nuserSubset = userSubset.loc[userSubset['userId']!=3]\nuserSubset.head(20)"
        },
        {
            "cell_type": "code",
            "execution_count": 94,
            "metadata": {},
            "outputs": [
                {
                    "data": {
                        "text/plain": "[(774,        userId  movieId  rating\n  69779     774     2445     1.0\n  69484     774      356     5.0\n  69772     774     2394     4.0\n  69777     774     2431     3.0), (1250,         userId  movieId  rating\n  115209    1250      356     4.0\n  115457    1250     2445     3.0\n  115455    1250     2431     5.0\n  115446    1250     2394     3.0)]"
                    },
                    "execution_count": 94,
                    "metadata": {},
                    "output_type": "execute_result"
                }
            ],
            "source": "userSubsetGroup = userSubset.groupby(['userId'])\nuserSubsetGroup = sorted(userSubsetGroup,  key=lambda x: len(x[1]), reverse=True)\nuserSubsetGroup [:2]"
        },
        {
            "cell_type": "code",
            "execution_count": 95,
            "metadata": {},
            "outputs": [],
            "source": "userSubsetGroup=userSubsetGroup[:100]"
        },
        {
            "cell_type": "code",
            "execution_count": 96,
            "metadata": {},
            "outputs": [],
            "source": "pearsonCorrelationDict = {}\n\n#For every user group in our subset\nfor name, group in userSubsetGroup:\n    #Let's start by sorting the input and current user group so the values aren't mixed up later on\n    group = group.sort_values(by='movieId')\n    inputMovies = inputMovies.sort_values(by='movieId')\n    #Get the N for the formula\n    nRatings = len(group)\n    #Get the review scores for the movies that they both have in common\n    temp_df = inputMovies[inputMovies['movieId'].isin(group['movieId'].tolist())]\n    #And then store them in a temporary buffer variable in a list format to facilitate future calculations\n    tempRatingList = temp_df['rating'].tolist()\n    #Let's also put the current user group reviews in a list format\n    tempGroupList = group['rating'].tolist()\n    #Now let's calculate the pearson correlation between two users, so called, x and y\n    Sxx = sum([i**2 for i in tempRatingList]) - pow(sum(tempRatingList),2)/float(nRatings)\n    Syy = sum([i**2 for i in tempGroupList]) - pow(sum(tempGroupList),2)/float(nRatings)\n    Sxy = sum( i*j for i, j in zip(tempRatingList, tempGroupList)) - sum(tempRatingList)*sum(tempGroupList)/float(nRatings)\n    \n    #If the denominator is different than zero, then divide, else, 0 correlation.\n    if Sxx != 0 and Syy != 0:\n        pearsonCorrelationDict[name] = Sxy/sqrt(Sxx*Syy)\n    else:\n        pearsonCorrelationDict[name] = 0"
        },
        {
            "cell_type": "code",
            "execution_count": 107,
            "metadata": {},
            "outputs": [
                {
                    "data": {
                        "text/plain": "{774: -0.09759000729485333,\n 1250: 0.8703882797784892,\n 1643: -0.9304340030613443,\n 1658: -0.7745966692414834,\n 4208: -0.5555555555555556,\n 4415: 0.0,\n 7734: -0.9428090415820635,\n 9797: -0.7745966692414834,\n 14572: -0.3779644730092272,\n 16484: -0.47140452079103173,\n 18506: 0.0,\n 19817: -0.17407765595569785,\n 22883: -0.37582301400141443,\n 23216: 0.6622661785325219,\n 26125: -0.13245323570650439,\n 26706: -0.3333333333333333,\n 31302: 0.5222329678670935,\n 32417: 0.5222329678670935,\n 33121: -0.13245323570650439,\n 36946: 0.050443327230531826,\n 37356: 0.0,\n 38318: -0.2581988897471611,\n 38754: 0.19245008972987526,\n 42196: -0.5773502691896258,\n 45300: 0,\n 50060: -0.7777777777777778,\n 50475: 0.37582301400141443,\n 50544: -0.17407765595569785,\n 51287: 0.3651483716701107,\n 51580: 0.3333333333333333,\n 52974: 0.5555555555555556,\n 53498: -0.3333333333333333,\n 56395: 0.5222329678670935,\n 56493: 0.0,\n 58040: -0.5222329678670935,\n 61095: 0.5222329678670935,\n 61154: -0.3333333333333333,\n 61750: -0.5222329678670935,\n 61862: 0.8164965809277261,\n 65908: -0.7302967433402214,\n 66467: 0.2581988897471611,\n 70088: 0.5773502691896257,\n 72230: -0.5222329678670935,\n 73314: -0.13245323570650439,\n 77194: -0.8164965809277261,\n 77231: -0.5773502691896258,\n 81016: -0.640257040581503,\n 85047: -0.8164965809277261,\n 88219: -0.47140452079103173,\n 93717: 0.0,\n 95254: 0.5222329678670935,\n 96701: 0.13245323570650439,\n 97610: 0.8703882797784892,\n 97709: -0.5773502691896257,\n 106084: 0.5773502691896258,\n 107751: -0.2581988897471611,\n 109082: -0.8164965809277261,\n 116292: 0.5773502691896258,\n 117248: -0.808290376865476,\n 123566: -0.5773502691896258,\n 124924: 0.0,\n 125078: -0.5619514869490164,\n 125403: -0.2790727860929738,\n 125856: 0.5773502691896258,\n 126362: -0.6172133998483676,\n 132094: 0.0,\n 137306: -0.3333333333333333,\n 137409: -0.6172133998483676,\n 137694: -0.13245323570650439,\n 139894: -0.17407765595569785,\n 144527: 0.3333333333333333,\n 147003: -0.3333333333333333,\n 150391: 0.0,\n 152157: -0.5773502691896258,\n 152633: -1.0,\n 153853: -0.19245008972987526,\n 156381: -0.5773502691896258,\n 158088: -0.2581988897471611,\n 160338: -0.47140452079103173,\n 162634: 0.5773502691896258,\n 165600: 0.0,\n 167452: -0.3333333333333333,\n 167488: 0.5443310539518174,\n 168044: 0.8164965809277261,\n 169717: -0.5773502691896258,\n 170504: -0.5748012489295105,\n 185430: -0.7777777777777778,\n 187411: -0.7921180343813395,\n 189581: -0.5222329678670935,\n 190118: 0.0,\n 190868: 0.3333333333333333,\n 193892: 0,\n 194202: -0.6622661785325219,\n 194974: 0.2581988897471611,\n 197430: 0.3333333333333333,\n 199563: 0.0,\n 200057: -0.5773502691896258,\n 200453: 0.17407765595569785,\n 200486: -0.9622504486493763,\n 201054: 0.40422604172722165}"
                    },
                    "execution_count": 107,
                    "metadata": {},
                    "output_type": "execute_result"
                }
            ],
            "source": "pearsonCorrelationDict"
        },
        {
            "cell_type": "code",
            "execution_count": 108,
            "metadata": {},
            "outputs": [
                {
                    "data": {
                        "text/html": "<div>\n<style scoped>\n    .dataframe tbody tr th:only-of-type {\n        vertical-align: middle;\n    }\n\n    .dataframe tbody tr th {\n        vertical-align: top;\n    }\n\n    .dataframe thead th {\n        text-align: right;\n    }\n</style>\n<table border=\"1\" class=\"dataframe\">\n  <thead>\n    <tr style=\"text-align: right;\">\n      <th></th>\n      <th>similarityIndex</th>\n      <th>userId</th>\n    </tr>\n  </thead>\n  <tbody>\n    <tr>\n      <th>0</th>\n      <td>-0.097590</td>\n      <td>774</td>\n    </tr>\n    <tr>\n      <th>1</th>\n      <td>0.870388</td>\n      <td>1250</td>\n    </tr>\n    <tr>\n      <th>2</th>\n      <td>-0.930434</td>\n      <td>1643</td>\n    </tr>\n    <tr>\n      <th>3</th>\n      <td>-0.774597</td>\n      <td>1658</td>\n    </tr>\n    <tr>\n      <th>4</th>\n      <td>-0.555556</td>\n      <td>4208</td>\n    </tr>\n  </tbody>\n</table>\n</div>",
                        "text/plain": "   similarityIndex  userId\n0        -0.097590     774\n1         0.870388    1250\n2        -0.930434    1643\n3        -0.774597    1658\n4        -0.555556    4208"
                    },
                    "execution_count": 108,
                    "metadata": {},
                    "output_type": "execute_result"
                }
            ],
            "source": "pearsonDF = pd.DataFrame.from_dict(pearsonCorrelationDict, orient='index')\npearsonDF.columns = ['similarityIndex']\npearsonDF['userId'] = pearsonDF.index\npearsonDF.index = range(len(pearsonDF))\npearsonDF.head()"
        },
        {
            "cell_type": "code",
            "execution_count": 113,
            "metadata": {},
            "outputs": [
                {
                    "data": {
                        "text/html": "<div>\n<style scoped>\n    .dataframe tbody tr th:only-of-type {\n        vertical-align: middle;\n    }\n\n    .dataframe tbody tr th {\n        vertical-align: top;\n    }\n\n    .dataframe thead th {\n        text-align: right;\n    }\n</style>\n<table border=\"1\" class=\"dataframe\">\n  <thead>\n    <tr style=\"text-align: right;\">\n      <th></th>\n      <th>similarityIndex</th>\n      <th>userId</th>\n    </tr>\n  </thead>\n  <tbody>\n    <tr>\n      <th>93</th>\n      <td>0.258199</td>\n      <td>194974</td>\n    </tr>\n    <tr>\n      <th>22</th>\n      <td>0.192450</td>\n      <td>38754</td>\n    </tr>\n    <tr>\n      <th>97</th>\n      <td>0.174078</td>\n      <td>200453</td>\n    </tr>\n    <tr>\n      <th>51</th>\n      <td>0.132453</td>\n      <td>96701</td>\n    </tr>\n    <tr>\n      <th>19</th>\n      <td>0.050443</td>\n      <td>36946</td>\n    </tr>\n  </tbody>\n</table>\n</div>",
                        "text/plain": "    similarityIndex  userId\n93         0.258199  194974\n22         0.192450   38754\n97         0.174078  200453\n51         0.132453   96701\n19         0.050443   36946"
                    },
                    "execution_count": 113,
                    "metadata": {},
                    "output_type": "execute_result"
                }
            ],
            "source": "topUsers=pearsonDF.sort_values(by='similarityIndex', ascending=False)[0:30]\ntopUsers.tail()"
        },
        {
            "cell_type": "code",
            "execution_count": 114,
            "metadata": {},
            "outputs": [
                {
                    "data": {
                        "text/html": "<div>\n<style scoped>\n    .dataframe tbody tr th:only-of-type {\n        vertical-align: middle;\n    }\n\n    .dataframe tbody tr th {\n        vertical-align: top;\n    }\n\n    .dataframe thead th {\n        text-align: right;\n    }\n</style>\n<table border=\"1\" class=\"dataframe\">\n  <thead>\n    <tr style=\"text-align: right;\">\n      <th></th>\n      <th>similarityIndex</th>\n      <th>userId</th>\n      <th>movieId</th>\n      <th>rating</th>\n    </tr>\n  </thead>\n  <tbody>\n    <tr>\n      <th>0</th>\n      <td>0.870388</td>\n      <td>97610</td>\n      <td>2375</td>\n      <td>4.0</td>\n    </tr>\n    <tr>\n      <th>1</th>\n      <td>0.870388</td>\n      <td>97610</td>\n      <td>2369</td>\n      <td>4.0</td>\n    </tr>\n    <tr>\n      <th>2</th>\n      <td>0.870388</td>\n      <td>97610</td>\n      <td>2355</td>\n      <td>4.0</td>\n    </tr>\n    <tr>\n      <th>3</th>\n      <td>0.870388</td>\n      <td>97610</td>\n      <td>2335</td>\n      <td>3.0</td>\n    </tr>\n    <tr>\n      <th>4</th>\n      <td>0.870388</td>\n      <td>97610</td>\n      <td>2346</td>\n      <td>3.0</td>\n    </tr>\n  </tbody>\n</table>\n</div>",
                        "text/plain": "   similarityIndex  userId  movieId  rating\n0         0.870388   97610     2375     4.0\n1         0.870388   97610     2369     4.0\n2         0.870388   97610     2355     4.0\n3         0.870388   97610     2335     3.0\n4         0.870388   97610     2346     3.0"
                    },
                    "execution_count": 114,
                    "metadata": {},
                    "output_type": "execute_result"
                }
            ],
            "source": "topUsersRating= topUsers.merge(ratings_df, left_on='userId', right_on='userId', how='inner')\ntopUsersRating.head() "
        },
        {
            "cell_type": "code",
            "execution_count": 115,
            "metadata": {},
            "outputs": [
                {
                    "data": {
                        "text/html": "<div>\n<style scoped>\n    .dataframe tbody tr th:only-of-type {\n        vertical-align: middle;\n    }\n\n    .dataframe tbody tr th {\n        vertical-align: top;\n    }\n\n    .dataframe thead th {\n        text-align: right;\n    }\n</style>\n<table border=\"1\" class=\"dataframe\">\n  <thead>\n    <tr style=\"text-align: right;\">\n      <th></th>\n      <th>similarityIndex</th>\n      <th>userId</th>\n      <th>movieId</th>\n      <th>rating</th>\n      <th>weightedRating</th>\n    </tr>\n  </thead>\n  <tbody>\n    <tr>\n      <th>0</th>\n      <td>0.870388</td>\n      <td>97610</td>\n      <td>2375</td>\n      <td>4.0</td>\n      <td>3.481553</td>\n    </tr>\n    <tr>\n      <th>1</th>\n      <td>0.870388</td>\n      <td>97610</td>\n      <td>2369</td>\n      <td>4.0</td>\n      <td>3.481553</td>\n    </tr>\n    <tr>\n      <th>2</th>\n      <td>0.870388</td>\n      <td>97610</td>\n      <td>2355</td>\n      <td>4.0</td>\n      <td>3.481553</td>\n    </tr>\n    <tr>\n      <th>3</th>\n      <td>0.870388</td>\n      <td>97610</td>\n      <td>2335</td>\n      <td>3.0</td>\n      <td>2.611165</td>\n    </tr>\n    <tr>\n      <th>4</th>\n      <td>0.870388</td>\n      <td>97610</td>\n      <td>2346</td>\n      <td>3.0</td>\n      <td>2.611165</td>\n    </tr>\n  </tbody>\n</table>\n</div>",
                        "text/plain": "   similarityIndex  userId  movieId  rating  weightedRating\n0         0.870388   97610     2375     4.0        3.481553\n1         0.870388   97610     2369     4.0        3.481553\n2         0.870388   97610     2355     4.0        3.481553\n3         0.870388   97610     2335     3.0        2.611165\n4         0.870388   97610     2346     3.0        2.611165"
                    },
                    "execution_count": 115,
                    "metadata": {},
                    "output_type": "execute_result"
                }
            ],
            "source": "topUsersRating['weightedRating'] = topUsersRating['similarityIndex']*topUsersRating['rating']\ntopUsersRating.head()"
        },
        {
            "cell_type": "code",
            "execution_count": 116,
            "metadata": {},
            "outputs": [
                {
                    "data": {
                        "text/html": "<div>\n<style scoped>\n    .dataframe tbody tr th:only-of-type {\n        vertical-align: middle;\n    }\n\n    .dataframe tbody tr th {\n        vertical-align: top;\n    }\n\n    .dataframe thead th {\n        text-align: right;\n    }\n</style>\n<table border=\"1\" class=\"dataframe\">\n  <thead>\n    <tr style=\"text-align: right;\">\n      <th></th>\n      <th>sum_similarityIndex</th>\n      <th>sum_weightedRating</th>\n    </tr>\n    <tr>\n      <th>movieId</th>\n      <th></th>\n      <th></th>\n    </tr>\n  </thead>\n  <tbody>\n    <tr>\n      <th>1</th>\n      <td>13.813043</td>\n      <td>56.152266</td>\n    </tr>\n    <tr>\n      <th>2</th>\n      <td>11.930004</td>\n      <td>38.472608</td>\n    </tr>\n    <tr>\n      <th>3</th>\n      <td>6.278974</td>\n      <td>20.297376</td>\n    </tr>\n    <tr>\n      <th>4</th>\n      <td>5.468628</td>\n      <td>18.213320</td>\n    </tr>\n    <tr>\n      <th>5</th>\n      <td>9.599340</td>\n      <td>32.974980</td>\n    </tr>\n  </tbody>\n</table>\n</div>",
                        "text/plain": "         sum_similarityIndex  sum_weightedRating\nmovieId                                         \n1                  13.813043           56.152266\n2                  11.930004           38.472608\n3                   6.278974           20.297376\n4                   5.468628           18.213320\n5                   9.599340           32.974980"
                    },
                    "execution_count": 116,
                    "metadata": {},
                    "output_type": "execute_result"
                }
            ],
            "source": "tempTopUsersRating = topUsersRating.groupby('movieId').sum()[['similarityIndex','weightedRating']]\ntempTopUsersRating.columns = ['sum_similarityIndex','sum_weightedRating']\ntempTopUsersRating.head()"
        },
        {
            "cell_type": "code",
            "execution_count": 117,
            "metadata": {},
            "outputs": [
                {
                    "data": {
                        "text/html": "<div>\n<style scoped>\n    .dataframe tbody tr th:only-of-type {\n        vertical-align: middle;\n    }\n\n    .dataframe tbody tr th {\n        vertical-align: top;\n    }\n\n    .dataframe thead th {\n        text-align: right;\n    }\n</style>\n<table border=\"1\" class=\"dataframe\">\n  <thead>\n    <tr style=\"text-align: right;\">\n      <th></th>\n      <th>weighted average recommendation score</th>\n      <th>movieId</th>\n    </tr>\n    <tr>\n      <th>movieId</th>\n      <th></th>\n      <th></th>\n    </tr>\n  </thead>\n  <tbody>\n    <tr>\n      <th>1</th>\n      <td>4.065163</td>\n      <td>1</td>\n    </tr>\n    <tr>\n      <th>2</th>\n      <td>3.224861</td>\n      <td>2</td>\n    </tr>\n    <tr>\n      <th>3</th>\n      <td>3.232594</td>\n      <td>3</td>\n    </tr>\n    <tr>\n      <th>4</th>\n      <td>3.330510</td>\n      <td>4</td>\n    </tr>\n    <tr>\n      <th>5</th>\n      <td>3.435130</td>\n      <td>5</td>\n    </tr>\n  </tbody>\n</table>\n</div>",
                        "text/plain": "         weighted average recommendation score  movieId\nmovieId                                                \n1                                     4.065163        1\n2                                     3.224861        2\n3                                     3.232594        3\n4                                     3.330510        4\n5                                     3.435130        5"
                    },
                    "execution_count": 117,
                    "metadata": {},
                    "output_type": "execute_result"
                }
            ],
            "source": "recommendation_df = pd.DataFrame()\nrecommendation_df['weighted average recommendation score'] = tempTopUsersRating['sum_weightedRating']/tempTopUsersRating['sum_similarityIndex']\nrecommendation_df['movieId'] = tempTopUsersRating.index\nrecommendation_df.head()"
        },
        {
            "cell_type": "code",
            "execution_count": 118,
            "metadata": {},
            "outputs": [
                {
                    "data": {
                        "text/html": "<div>\n<style scoped>\n    .dataframe tbody tr th:only-of-type {\n        vertical-align: middle;\n    }\n\n    .dataframe tbody tr th {\n        vertical-align: top;\n    }\n\n    .dataframe thead th {\n        text-align: right;\n    }\n</style>\n<table border=\"1\" class=\"dataframe\">\n  <thead>\n    <tr style=\"text-align: right;\">\n      <th></th>\n      <th>weighted average recommendation score</th>\n      <th>movieId</th>\n    </tr>\n    <tr>\n      <th>movieId</th>\n      <th></th>\n      <th></th>\n    </tr>\n  </thead>\n  <tbody>\n    <tr>\n      <th>5615</th>\n      <td>5.0</td>\n      <td>5615</td>\n    </tr>\n    <tr>\n      <th>116</th>\n      <td>5.0</td>\n      <td>116</td>\n    </tr>\n    <tr>\n      <th>54686</th>\n      <td>5.0</td>\n      <td>54686</td>\n    </tr>\n    <tr>\n      <th>91886</th>\n      <td>5.0</td>\n      <td>91886</td>\n    </tr>\n    <tr>\n      <th>92234</th>\n      <td>5.0</td>\n      <td>92234</td>\n    </tr>\n    <tr>\n      <th>92335</th>\n      <td>5.0</td>\n      <td>92335</td>\n    </tr>\n    <tr>\n      <th>74624</th>\n      <td>5.0</td>\n      <td>74624</td>\n    </tr>\n    <tr>\n      <th>92483</th>\n      <td>5.0</td>\n      <td>92483</td>\n    </tr>\n    <tr>\n      <th>456</th>\n      <td>5.0</td>\n      <td>456</td>\n    </tr>\n    <tr>\n      <th>93132</th>\n      <td>5.0</td>\n      <td>93132</td>\n    </tr>\n  </tbody>\n</table>\n</div>",
                        "text/plain": "         weighted average recommendation score  movieId\nmovieId                                                \n5615                                       5.0     5615\n116                                        5.0      116\n54686                                      5.0    54686\n91886                                      5.0    91886\n92234                                      5.0    92234\n92335                                      5.0    92335\n74624                                      5.0    74624\n92483                                      5.0    92483\n456                                        5.0      456\n93132                                      5.0    93132"
                    },
                    "execution_count": 118,
                    "metadata": {},
                    "output_type": "execute_result"
                }
            ],
            "source": "recommendation_df = recommendation_df.sort_values(by='weighted average recommendation score', ascending=False)\nrecommendation_df.head(10)"
        },
        {
            "cell_type": "code",
            "execution_count": 124,
            "metadata": {},
            "outputs": [],
            "source": "recommendation_df.index = range(len(recommendation_df))"
        },
        {
            "cell_type": "code",
            "execution_count": 129,
            "metadata": {},
            "outputs": [
                {
                    "data": {
                        "text/html": "<div>\n<style scoped>\n    .dataframe tbody tr th:only-of-type {\n        vertical-align: middle;\n    }\n\n    .dataframe tbody tr th {\n        vertical-align: top;\n    }\n\n    .dataframe thead th {\n        text-align: right;\n    }\n</style>\n<table border=\"1\" class=\"dataframe\">\n  <thead>\n    <tr style=\"text-align: right;\">\n      <th></th>\n      <th>weighted average recommendation score</th>\n      <th>movieId</th>\n      <th>title</th>\n      <th>genres</th>\n    </tr>\n  </thead>\n  <tbody>\n    <tr>\n      <th>0</th>\n      <td>5.0</td>\n      <td>5615</td>\n      <td>Invincible (2001)</td>\n      <td>Drama</td>\n    </tr>\n    <tr>\n      <th>1</th>\n      <td>5.0</td>\n      <td>116</td>\n      <td>Anne Frank Remembered (1995)</td>\n      <td>Documentary</td>\n    </tr>\n    <tr>\n      <th>2</th>\n      <td>5.0</td>\n      <td>54686</td>\n      <td>Last Legion, The (2007)</td>\n      <td>Action|Adventure|Fantasy|War</td>\n    </tr>\n    <tr>\n      <th>3</th>\n      <td>5.0</td>\n      <td>91886</td>\n      <td>Dolphin Tale (2011)</td>\n      <td>Children|Drama</td>\n    </tr>\n    <tr>\n      <th>4</th>\n      <td>5.0</td>\n      <td>92234</td>\n      <td>Red Tails (2012)</td>\n      <td>Action|Adventure|Drama|War</td>\n    </tr>\n    <tr>\n      <th>5</th>\n      <td>5.0</td>\n      <td>92335</td>\n      <td>Big Miracle (2012)</td>\n      <td>Drama|Romance</td>\n    </tr>\n    <tr>\n      <th>6</th>\n      <td>5.0</td>\n      <td>74624</td>\n      <td>Agora (2009)</td>\n      <td>Adventure|Drama|Romance</td>\n    </tr>\n    <tr>\n      <th>7</th>\n      <td>5.0</td>\n      <td>92483</td>\n      <td>Living Proof (2008)</td>\n      <td>Drama</td>\n    </tr>\n    <tr>\n      <th>8</th>\n      <td>5.0</td>\n      <td>456</td>\n      <td>Fresh (1994)</td>\n      <td>Crime|Drama|Thriller</td>\n    </tr>\n    <tr>\n      <th>9</th>\n      <td>5.0</td>\n      <td>93132</td>\n      <td>Seven Days in Utopia (2011)</td>\n      <td>Drama</td>\n    </tr>\n    <tr>\n      <th>10</th>\n      <td>5.0</td>\n      <td>94070</td>\n      <td>Best Exotic Marigold Hotel, The (2011)</td>\n      <td>Comedy|Drama</td>\n    </tr>\n    <tr>\n      <th>11</th>\n      <td>5.0</td>\n      <td>94133</td>\n      <td>Hammer, The (2010)</td>\n      <td>Drama</td>\n    </tr>\n    <tr>\n      <th>12</th>\n      <td>5.0</td>\n      <td>2654</td>\n      <td>Wolf Man, The (1941)</td>\n      <td>Drama|Fantasy|Horror</td>\n    </tr>\n    <tr>\n      <th>13</th>\n      <td>5.0</td>\n      <td>2627</td>\n      <td>Endurance (1999)</td>\n      <td>Documentary|Drama</td>\n    </tr>\n    <tr>\n      <th>14</th>\n      <td>5.0</td>\n      <td>930</td>\n      <td>Notorious (1946)</td>\n      <td>Film-Noir|Romance|Thriller</td>\n    </tr>\n    <tr>\n      <th>15</th>\n      <td>5.0</td>\n      <td>4873</td>\n      <td>Waking Life (2001)</td>\n      <td>Animation|Drama|Fantasy</td>\n    </tr>\n    <tr>\n      <th>16</th>\n      <td>5.0</td>\n      <td>2551</td>\n      <td>Dead Ringers (1988)</td>\n      <td>Drama|Horror|Thriller</td>\n    </tr>\n    <tr>\n      <th>17</th>\n      <td>5.0</td>\n      <td>51933</td>\n      <td>Pride (2007)</td>\n      <td>Drama</td>\n    </tr>\n    <tr>\n      <th>18</th>\n      <td>5.0</td>\n      <td>6562</td>\n      <td>Spencer's Mountain (1963)</td>\n      <td>Comedy|Drama</td>\n    </tr>\n    <tr>\n      <th>19</th>\n      <td>5.0</td>\n      <td>4884</td>\n      <td>Trembling Before G-d (2001)</td>\n      <td>Documentary</td>\n    </tr>\n    <tr>\n      <th>20</th>\n      <td>5.0</td>\n      <td>896</td>\n      <td>Wild Reeds (Les roseaux sauvages) (1994)</td>\n      <td>Drama</td>\n    </tr>\n    <tr>\n      <th>21</th>\n      <td>5.0</td>\n      <td>1256</td>\n      <td>Duck Soup (1933)</td>\n      <td>Comedy|Musical|War</td>\n    </tr>\n    <tr>\n      <th>22</th>\n      <td>5.0</td>\n      <td>1248</td>\n      <td>Touch of Evil (1958)</td>\n      <td>Crime|Film-Noir|Thriller</td>\n    </tr>\n    <tr>\n      <th>23</th>\n      <td>5.0</td>\n      <td>7058</td>\n      <td>Life with Father (1947)</td>\n      <td>Comedy</td>\n    </tr>\n    <tr>\n      <th>24</th>\n      <td>5.0</td>\n      <td>8537</td>\n      <td>Kaena: The Prophecy (Kaena: La proph\u00e9tie) (2003)</td>\n      <td>Action|Adventure|Animation|Children|Sci-Fi</td>\n    </tr>\n    <tr>\n      <th>25</th>\n      <td>5.0</td>\n      <td>5965</td>\n      <td>Duellists, The (1977)</td>\n      <td>Action|War</td>\n    </tr>\n    <tr>\n      <th>26</th>\n      <td>5.0</td>\n      <td>1667</td>\n      <td>Mad City (1997)</td>\n      <td>Action|Drama</td>\n    </tr>\n    <tr>\n      <th>27</th>\n      <td>5.0</td>\n      <td>4695</td>\n      <td>Who'll Stop the Rain (1978)</td>\n      <td>Crime|Drama</td>\n    </tr>\n    <tr>\n      <th>28</th>\n      <td>5.0</td>\n      <td>8651</td>\n      <td>Man of La Mancha (1972)</td>\n      <td>Adventure|Comedy|Musical</td>\n    </tr>\n    <tr>\n      <th>29</th>\n      <td>5.0</td>\n      <td>91450</td>\n      <td>Perfect Game, The (2009)</td>\n      <td>Drama</td>\n    </tr>\n    <tr>\n      <th>...</th>\n      <td>...</td>\n      <td>...</td>\n      <td>...</td>\n      <td>...</td>\n    </tr>\n    <tr>\n      <th>6969</th>\n      <td>0.5</td>\n      <td>3112</td>\n      <td>'night Mother (1986)</td>\n      <td>Drama</td>\n    </tr>\n    <tr>\n      <th>6970</th>\n      <td>0.5</td>\n      <td>74532</td>\n      <td>Cop Out (2010)</td>\n      <td>Action|Comedy|Crime</td>\n    </tr>\n    <tr>\n      <th>6971</th>\n      <td>0.5</td>\n      <td>104243</td>\n      <td>Riddick (2013)</td>\n      <td>Action|Sci-Fi|Thriller|IMAX</td>\n    </tr>\n    <tr>\n      <th>6972</th>\n      <td>0.5</td>\n      <td>31494</td>\n      <td>Everyday People (2004)</td>\n      <td>Drama</td>\n    </tr>\n    <tr>\n      <th>6973</th>\n      <td>0.5</td>\n      <td>3774</td>\n      <td>House Party 2 (1991)</td>\n      <td>Comedy|Drama|Romance</td>\n    </tr>\n    <tr>\n      <th>6974</th>\n      <td>0.5</td>\n      <td>1599</td>\n      <td>Steel (1997)</td>\n      <td>Action</td>\n    </tr>\n    <tr>\n      <th>6975</th>\n      <td>0.5</td>\n      <td>74452</td>\n      <td>Wolfman, The (2010)</td>\n      <td>Horror|Thriller</td>\n    </tr>\n    <tr>\n      <th>6976</th>\n      <td>0.5</td>\n      <td>103982</td>\n      <td>Frankenstein's Army (2013)</td>\n      <td>Action|Horror|Sci-Fi</td>\n    </tr>\n    <tr>\n      <th>6977</th>\n      <td>0.5</td>\n      <td>8849</td>\n      <td>Under the Cherry Moon (1986)</td>\n      <td>Comedy|Drama|Musical|Romance</td>\n    </tr>\n    <tr>\n      <th>6978</th>\n      <td>0.5</td>\n      <td>4274</td>\n      <td>Cleopatra (1963)</td>\n      <td>Drama|Romance</td>\n    </tr>\n    <tr>\n      <th>6979</th>\n      <td>0.5</td>\n      <td>33781</td>\n      <td>Quo Vadis (1951)</td>\n      <td>Drama|Romance</td>\n    </tr>\n    <tr>\n      <th>6980</th>\n      <td>0.5</td>\n      <td>32444</td>\n      <td>Carmen (1983)</td>\n      <td>Drama|Musical|Romance</td>\n    </tr>\n    <tr>\n      <th>6981</th>\n      <td>0.5</td>\n      <td>65810</td>\n      <td>Notorious (2009)</td>\n      <td>Drama|Musical</td>\n    </tr>\n    <tr>\n      <th>6982</th>\n      <td>0.5</td>\n      <td>33171</td>\n      <td>Mysterious Skin (2004)</td>\n      <td>Drama|Mystery</td>\n    </tr>\n    <tr>\n      <th>6983</th>\n      <td>0.5</td>\n      <td>108899</td>\n      <td>Gloria (2013)</td>\n      <td>Comedy|Drama</td>\n    </tr>\n    <tr>\n      <th>6984</th>\n      <td>0.5</td>\n      <td>33164</td>\n      <td>House of Wax (2005)</td>\n      <td>Horror|Thriller</td>\n    </tr>\n    <tr>\n      <th>6985</th>\n      <td>0.5</td>\n      <td>67957</td>\n      <td>Superstar: The Karen Carpenter Story (1988)</td>\n      <td>Drama|Musical</td>\n    </tr>\n    <tr>\n      <th>6986</th>\n      <td>0.5</td>\n      <td>59184</td>\n      <td>Tarzan's New York Adventure (1942)</td>\n      <td>Action|Adventure</td>\n    </tr>\n    <tr>\n      <th>6987</th>\n      <td>0.5</td>\n      <td>2823</td>\n      <td>Spiders Part 1: The Golden Lake, The (Die Spin...</td>\n      <td>Action|Adventure|Drama</td>\n    </tr>\n    <tr>\n      <th>6988</th>\n      <td>0.5</td>\n      <td>5476</td>\n      <td>Halloween: Resurrection (Halloween 8) (2002)</td>\n      <td>Horror|Thriller</td>\n    </tr>\n    <tr>\n      <th>6989</th>\n      <td>0.5</td>\n      <td>5471</td>\n      <td>Perfect (1985)</td>\n      <td>Drama|Romance</td>\n    </tr>\n    <tr>\n      <th>6990</th>\n      <td>0.5</td>\n      <td>107348</td>\n      <td>Anchorman 2: The Legend Continues (2013)</td>\n      <td>Comedy</td>\n    </tr>\n    <tr>\n      <th>6991</th>\n      <td>0.5</td>\n      <td>5470</td>\n      <td>The Importance of Being Earnest (1952)</td>\n      <td>Comedy|Romance</td>\n    </tr>\n    <tr>\n      <th>6992</th>\n      <td>0.5</td>\n      <td>2892</td>\n      <td>New Rose Hotel (1998)</td>\n      <td>Action|Drama</td>\n    </tr>\n    <tr>\n      <th>6993</th>\n      <td>0.5</td>\n      <td>32979</td>\n      <td>Alexandra's Project (2003)</td>\n      <td>Drama|Thriller</td>\n    </tr>\n    <tr>\n      <th>6994</th>\n      <td>0.5</td>\n      <td>32799</td>\n      <td>Maidens in Uniform (M\u00e4dchen in Uniform) (1931)</td>\n      <td>Drama|Romance</td>\n    </tr>\n    <tr>\n      <th>6995</th>\n      <td>0.5</td>\n      <td>32659</td>\n      <td>Tanguy (2001)</td>\n      <td>Comedy</td>\n    </tr>\n    <tr>\n      <th>6996</th>\n      <td>0.5</td>\n      <td>93693</td>\n      <td>Casa de mi Padre (2012)</td>\n      <td>Comedy</td>\n    </tr>\n    <tr>\n      <th>6997</th>\n      <td>0.5</td>\n      <td>106540</td>\n      <td>Delivery Man (2013)</td>\n      <td>Comedy</td>\n    </tr>\n    <tr>\n      <th>6998</th>\n      <td>0.5</td>\n      <td>8905</td>\n      <td>1492: Conquest of Paradise (1992)</td>\n      <td>Adventure|Drama</td>\n    </tr>\n  </tbody>\n</table>\n<p>6999 rows \u00d7 4 columns</p>\n</div>",
                        "text/plain": "      weighted average recommendation score  movieId  \\\n0                                       5.0     5615   \n1                                       5.0      116   \n2                                       5.0    54686   \n3                                       5.0    91886   \n4                                       5.0    92234   \n5                                       5.0    92335   \n6                                       5.0    74624   \n7                                       5.0    92483   \n8                                       5.0      456   \n9                                       5.0    93132   \n10                                      5.0    94070   \n11                                      5.0    94133   \n12                                      5.0     2654   \n13                                      5.0     2627   \n14                                      5.0      930   \n15                                      5.0     4873   \n16                                      5.0     2551   \n17                                      5.0    51933   \n18                                      5.0     6562   \n19                                      5.0     4884   \n20                                      5.0      896   \n21                                      5.0     1256   \n22                                      5.0     1248   \n23                                      5.0     7058   \n24                                      5.0     8537   \n25                                      5.0     5965   \n26                                      5.0     1667   \n27                                      5.0     4695   \n28                                      5.0     8651   \n29                                      5.0    91450   \n...                                     ...      ...   \n6969                                    0.5     3112   \n6970                                    0.5    74532   \n6971                                    0.5   104243   \n6972                                    0.5    31494   \n6973                                    0.5     3774   \n6974                                    0.5     1599   \n6975                                    0.5    74452   \n6976                                    0.5   103982   \n6977                                    0.5     8849   \n6978                                    0.5     4274   \n6979                                    0.5    33781   \n6980                                    0.5    32444   \n6981                                    0.5    65810   \n6982                                    0.5    33171   \n6983                                    0.5   108899   \n6984                                    0.5    33164   \n6985                                    0.5    67957   \n6986                                    0.5    59184   \n6987                                    0.5     2823   \n6988                                    0.5     5476   \n6989                                    0.5     5471   \n6990                                    0.5   107348   \n6991                                    0.5     5470   \n6992                                    0.5     2892   \n6993                                    0.5    32979   \n6994                                    0.5    32799   \n6995                                    0.5    32659   \n6996                                    0.5    93693   \n6997                                    0.5   106540   \n6998                                    0.5     8905   \n\n                                                  title  \\\n0                                     Invincible (2001)   \n1                          Anne Frank Remembered (1995)   \n2                               Last Legion, The (2007)   \n3                                   Dolphin Tale (2011)   \n4                                      Red Tails (2012)   \n5                                    Big Miracle (2012)   \n6                                          Agora (2009)   \n7                                   Living Proof (2008)   \n8                                          Fresh (1994)   \n9                           Seven Days in Utopia (2011)   \n10               Best Exotic Marigold Hotel, The (2011)   \n11                                   Hammer, The (2010)   \n12                                 Wolf Man, The (1941)   \n13                                     Endurance (1999)   \n14                                     Notorious (1946)   \n15                                   Waking Life (2001)   \n16                                  Dead Ringers (1988)   \n17                                         Pride (2007)   \n18                            Spencer's Mountain (1963)   \n19                          Trembling Before G-d (2001)   \n20             Wild Reeds (Les roseaux sauvages) (1994)   \n21                                     Duck Soup (1933)   \n22                                 Touch of Evil (1958)   \n23                              Life with Father (1947)   \n24     Kaena: The Prophecy (Kaena: La proph\u00e9tie) (2003)   \n25                                Duellists, The (1977)   \n26                                      Mad City (1997)   \n27                          Who'll Stop the Rain (1978)   \n28                              Man of La Mancha (1972)   \n29                             Perfect Game, The (2009)   \n...                                                 ...   \n6969                               'night Mother (1986)   \n6970                                     Cop Out (2010)   \n6971                                     Riddick (2013)   \n6972                             Everyday People (2004)   \n6973                               House Party 2 (1991)   \n6974                                       Steel (1997)   \n6975                                Wolfman, The (2010)   \n6976                         Frankenstein's Army (2013)   \n6977                       Under the Cherry Moon (1986)   \n6978                                   Cleopatra (1963)   \n6979                                   Quo Vadis (1951)   \n6980                                      Carmen (1983)   \n6981                                   Notorious (2009)   \n6982                             Mysterious Skin (2004)   \n6983                                      Gloria (2013)   \n6984                                House of Wax (2005)   \n6985        Superstar: The Karen Carpenter Story (1988)   \n6986                 Tarzan's New York Adventure (1942)   \n6987  Spiders Part 1: The Golden Lake, The (Die Spin...   \n6988       Halloween: Resurrection (Halloween 8) (2002)   \n6989                                     Perfect (1985)   \n6990           Anchorman 2: The Legend Continues (2013)   \n6991             The Importance of Being Earnest (1952)   \n6992                              New Rose Hotel (1998)   \n6993                         Alexandra's Project (2003)   \n6994     Maidens in Uniform (M\u00e4dchen in Uniform) (1931)   \n6995                                      Tanguy (2001)   \n6996                            Casa de mi Padre (2012)   \n6997                                Delivery Man (2013)   \n6998                  1492: Conquest of Paradise (1992)   \n\n                                          genres  \n0                                          Drama  \n1                                    Documentary  \n2                   Action|Adventure|Fantasy|War  \n3                                 Children|Drama  \n4                     Action|Adventure|Drama|War  \n5                                  Drama|Romance  \n6                        Adventure|Drama|Romance  \n7                                          Drama  \n8                           Crime|Drama|Thriller  \n9                                          Drama  \n10                                  Comedy|Drama  \n11                                         Drama  \n12                          Drama|Fantasy|Horror  \n13                             Documentary|Drama  \n14                    Film-Noir|Romance|Thriller  \n15                       Animation|Drama|Fantasy  \n16                         Drama|Horror|Thriller  \n17                                         Drama  \n18                                  Comedy|Drama  \n19                                   Documentary  \n20                                         Drama  \n21                            Comedy|Musical|War  \n22                      Crime|Film-Noir|Thriller  \n23                                        Comedy  \n24    Action|Adventure|Animation|Children|Sci-Fi  \n25                                    Action|War  \n26                                  Action|Drama  \n27                                   Crime|Drama  \n28                      Adventure|Comedy|Musical  \n29                                         Drama  \n...                                          ...  \n6969                                       Drama  \n6970                         Action|Comedy|Crime  \n6971                 Action|Sci-Fi|Thriller|IMAX  \n6972                                       Drama  \n6973                        Comedy|Drama|Romance  \n6974                                      Action  \n6975                             Horror|Thriller  \n6976                        Action|Horror|Sci-Fi  \n6977                Comedy|Drama|Musical|Romance  \n6978                               Drama|Romance  \n6979                               Drama|Romance  \n6980                       Drama|Musical|Romance  \n6981                               Drama|Musical  \n6982                               Drama|Mystery  \n6983                                Comedy|Drama  \n6984                             Horror|Thriller  \n6985                               Drama|Musical  \n6986                            Action|Adventure  \n6987                      Action|Adventure|Drama  \n6988                             Horror|Thriller  \n6989                               Drama|Romance  \n6990                                      Comedy  \n6991                              Comedy|Romance  \n6992                                Action|Drama  \n6993                              Drama|Thriller  \n6994                               Drama|Romance  \n6995                                      Comedy  \n6996                                      Comedy  \n6997                                      Comedy  \n6998                             Adventure|Drama  \n\n[6999 rows x 4 columns]"
                    },
                    "execution_count": 129,
                    "metadata": {},
                    "output_type": "execute_result"
                }
            ],
            "source": "recommendation_df.merge(movies_df,left_on='movieId',right_on='movieId' ,how='inner') "
        },
        {
            "cell_type": "code",
            "execution_count": null,
            "metadata": {},
            "outputs": [],
            "source": ""
        }
    ],
    "metadata": {
        "kernelspec": {
            "display_name": "Python 3.6",
            "language": "python",
            "name": "python3"
        },
        "language_info": {
            "codemirror_mode": {
                "name": "ipython",
                "version": 3
            },
            "file_extension": ".py",
            "mimetype": "text/x-python",
            "name": "python",
            "nbconvert_exporter": "python",
            "pygments_lexer": "ipython3",
            "version": "3.6.8"
        }
    },
    "nbformat": 4,
    "nbformat_minor": 1
}